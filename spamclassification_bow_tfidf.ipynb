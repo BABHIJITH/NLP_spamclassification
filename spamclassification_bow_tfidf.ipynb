{
  "nbformat": 4,
  "nbformat_minor": 0,
  "metadata": {
    "colab": {
      "provenance": []
    },
    "kernelspec": {
      "name": "python3",
      "display_name": "Python 3"
    },
    "language_info": {
      "name": "python"
    }
  },
  "cells": [
    {
      "cell_type": "markdown",
      "source": [
        "# ***Bag of Words (BoW)***\n",
        "# **BoW is a simple yet powerful method to convert text into numerical features.\n",
        "\n",
        "It creates a vocabulary of all unique words from the corpus.\n",
        "\n",
        "Each text is represented as a vector of word counts.\n",
        "\n",
        "No information about grammar, word order, or semantics is retained.\n",
        "\n"
      ],
      "metadata": {
        "id": "YKxVjtwR8f-e"
      }
    },
    {
      "cell_type": "code",
      "execution_count": 38,
      "metadata": {
        "id": "-nml5bqIoMG5"
      },
      "outputs": [],
      "source": [
        "import pandas as pd\n",
        "from sklearn.model_selection import train_test_split\n",
        "from sklearn.feature_extraction.text import CountVectorizer\n",
        "from sklearn.linear_model import LogisticRegression\n",
        "from sklearn.metrics import classification_report, confusion_matrix, accuracy_score\n",
        "import re\n",
        "import string"
      ]
    },
    {
      "cell_type": "markdown",
      "source": [
        "Loads essential libraries for data handling, preprocessing, feature extraction (BoW), model training (Logistic Regression), and performance evaluation. Also includes re and string for text cleaning."
      ],
      "metadata": {
        "id": "Xp27fGF36yeJ"
      }
    },
    {
      "cell_type": "code",
      "source": [
        "def clean_text(text):\n",
        "    text = text.lower()\n",
        "    text = re.sub(r\"http\\S+|www.\\S+\", \"\", text) #removes urls\n",
        "    text = re.sub(r\"<.*?>\", \"\", text) #removes html tags\n",
        "    text = re.sub(f\"[{re.escape(string.punctuation)}]\", \"\", text) #removes punctuation marks\n",
        "    text = re.sub(r\"\\d+\", \"\", text) #removes numbers\n",
        "    text = re.sub(r\"\\s+\", \" \", text).strip() #removes spaces\n",
        "    return text\n",
        "\n",
        "data = pd.read_csv(\"/content/spam.csv\", encoding='ISO-8859-1')"
      ],
      "metadata": {
        "id": "5NRiiWUD6LoD"
      },
      "execution_count": 39,
      "outputs": []
    },
    {
      "cell_type": "markdown",
      "source": [
        "Defines a custom function to clean each message for improved model performance. This ensures uniformity and reduces noise from irrelevant patterns in the raw data.\n",
        "Loads the SMS dataset for spam detection. Uses ISO-8859-1 encoding to handle special characters present in the file."
      ],
      "metadata": {
        "id": "XnkS0kD360ox"
      }
    },
    {
      "cell_type": "code",
      "source": [
        "print(data.head())"
      ],
      "metadata": {
        "colab": {
          "base_uri": "https://localhost:8080/"
        },
        "id": "jWqkC1Zg6Llc",
        "outputId": "cb7ab6d8-983a-4f55-bbd0-41d1d154a2bf"
      },
      "execution_count": 40,
      "outputs": [
        {
          "output_type": "stream",
          "name": "stdout",
          "text": [
            "     v1  Label                                                 v2\n",
            "0   ham      0  Go until jurong point, crazy.. Available only ...\n",
            "1   ham      0                      Ok lar... Joking wif u oni...\n",
            "2  spam      1  Free entry in 2 a wkly comp to win FA Cup fina...\n",
            "3   ham      0  U dun say so early hor... U c already then say...\n",
            "4   ham      0  Nah I don't think he goes to usf, he lives aro...\n"
          ]
        }
      ]
    },
    {
      "cell_type": "code",
      "source": [
        "x = data['v2']\n",
        "y = data['Label']\n",
        "\n",
        "x = x.apply(clean_text)\n",
        "\n",
        "vectorizer = CountVectorizer()\n",
        "x_bow = vectorizer.fit_transform(x)\n",
        "x_bow\n",
        "\n",
        "x_bow_array = x_bow.toarray()"
      ],
      "metadata": {
        "id": "Jll2beg56LjL"
      },
      "execution_count": 41,
      "outputs": []
    },
    {
      "cell_type": "markdown",
      "source": [
        "Splits data into input (x) and target (y) variables. Applies preprocessing to each message using clean_text.\n",
        "Converts cleaned messages into numerical vectors using Bag of Words (BoW). Each message is represented by a count of each word's occurrence."
      ],
      "metadata": {
        "id": "pAiwsL3j67Dp"
      }
    },
    {
      "cell_type": "code",
      "source": [
        "x_train, x_test, y_train, y_test = train_test_split(x_bow, y, test_size=0.2, random_state=42)"
      ],
      "metadata": {
        "id": "jrl8YyT66Lgq"
      },
      "execution_count": 42,
      "outputs": []
    },
    {
      "cell_type": "markdown",
      "source": [
        "Splits BoW data into training (80%) and test (20%) sets. Random state ensures reproducibility."
      ],
      "metadata": {
        "id": "D56GLYgD7B-p"
      }
    },
    {
      "cell_type": "code",
      "source": [
        "model = LogisticRegression()\n",
        "model.fit(x_train, y_train)\n",
        "\n",
        "y_pred = model.predict(x_test)\n",
        "acc_bow = accuracy_score(y_test, y_pred)\n",
        "print(\"Accuracy: \", acc_bow)\n",
        "print(\"\\n Classification Report:\\n\", classification_report(y_test, y_pred))\n",
        "print(\"\\n Confusion Matrix:\\n\", confusion_matrix(y_test, y_pred))"
      ],
      "metadata": {
        "colab": {
          "base_uri": "https://localhost:8080/"
        },
        "id": "2h93Zn0b6Les",
        "outputId": "e6191538-2a04-46c8-d1d2-2d883688bf94"
      },
      "execution_count": 43,
      "outputs": [
        {
          "output_type": "stream",
          "name": "stdout",
          "text": [
            "Accuracy:  0.97847533632287\n",
            "\n",
            " Classification Report:\n",
            "               precision    recall  f1-score   support\n",
            "\n",
            "           0       0.98      1.00      0.99       965\n",
            "           1       0.99      0.85      0.91       150\n",
            "\n",
            "    accuracy                           0.98      1115\n",
            "   macro avg       0.98      0.92      0.95      1115\n",
            "weighted avg       0.98      0.98      0.98      1115\n",
            "\n",
            "\n",
            " Confusion Matrix:\n",
            " [[964   1]\n",
            " [ 23 127]]\n"
          ]
        }
      ]
    },
    {
      "cell_type": "markdown",
      "source": [
        "Trains a spam classification model using Logistic Regression on BoW vectors."
      ],
      "metadata": {
        "id": "cbuA3UPv7Fur"
      }
    },
    {
      "cell_type": "markdown",
      "source": [
        "# ***TF-IDF (Term Frequency–Inverse Document Frequency)***\n",
        "# **TF-IDF refines BoW by weighing words based on their importance in a document relative to the entire corpus.\n",
        "\n",
        "TF: Frequency of a word in a document.\n",
        "\n",
        "IDF: Inverse frequency of the word across all documents — rarer words get higher weight.\n",
        "\n",
        "Reduces emphasis on common words (like “the”, “is”) and highlights distinctive terms.**"
      ],
      "metadata": {
        "id": "zqQ32VyW8mUP"
      }
    },
    {
      "cell_type": "code",
      "source": [
        "import pandas as pd\n",
        "from sklearn.model_selection import train_test_split\n",
        "from sklearn.feature_extraction.text import TfidfVectorizer\n",
        "from sklearn.naive_bayes import MultinomialNB\n",
        "from sklearn.metrics import classification_report, confusion_matrix, accuracy_score\n",
        "import re\n",
        "import string"
      ],
      "metadata": {
        "id": "DkyGNA106LcL"
      },
      "execution_count": 44,
      "outputs": []
    },
    {
      "cell_type": "markdown",
      "source": [
        "Brings in necessary modules for:\n",
        "\n",
        "Data handling (pandas)\n",
        "\n",
        "Text vectorization (BoW, TF-IDF)\n",
        "\n",
        "Model building (LogisticRegression, MultinomialNB)\n",
        "\n",
        "Evaluation metrics\n",
        "\n",
        "Preprocessing (regex and punctuation removal)\n",
        "\n",
        "NLTK tools for stopword filtering"
      ],
      "metadata": {
        "id": "RieqI2mh7ptv"
      }
    },
    {
      "cell_type": "code",
      "source": [
        "def clean_text(text):\n",
        "    text = text.lower()\n",
        "    text = re.sub(r\"http\\S+|www.\\S+\", \"\", text)\n",
        "    text = re.sub(r\"<.*?>\", \"\", text)\n",
        "    text = re.sub(f\"[{re.escape(string.punctuation)}]\", \"\", text)\n",
        "    text = re.sub(r\"\\d+\", \"\", text)\n",
        "    text = re.sub(r\"\\s+\", \" \", text).strip()\n",
        "    stop_words = set(stopwords.words('english'))\n",
        "    text = \" \".join(word for word in text.split() if word not in stop_words)\n",
        "    return text"
      ],
      "metadata": {
        "id": "XZlVpDk56LaC"
      },
      "execution_count": 45,
      "outputs": []
    },
    {
      "cell_type": "markdown",
      "source": [
        "Cleans and normalizes text by:\n",
        "\n",
        "Removing URLs, HTML tags, punctuation, digits, and extra spaces\n",
        "\n",
        "Filtering stopwords to improve feature signal\n",
        "\n",
        "Prepares messages for better model input"
      ],
      "metadata": {
        "id": "azUI3OPb7si_"
      }
    },
    {
      "cell_type": "code",
      "source": [
        "data = pd.read_csv(\"/content/spam.csv\", encoding='ISO-8859-1')\n",
        "\n",
        "x = data['v2']\n",
        "y = data['v1']\n",
        "\n",
        "x = x.apply(clean_text)"
      ],
      "metadata": {
        "id": "OThXpwrB6LXr"
      },
      "execution_count": 46,
      "outputs": []
    },
    {
      "cell_type": "markdown",
      "source": [
        "x contains messages\n",
        "\n",
        "y contains labels (ham/spam)\n",
        "\n",
        "Each message is cleaned using the clean_text() function"
      ],
      "metadata": {
        "id": "xutf1yMg7wHY"
      }
    },
    {
      "cell_type": "code",
      "source": [
        "tfidf = TfidfVectorizer()\n",
        "x_tfidf = tfidf.fit_transform(x)"
      ],
      "metadata": {
        "id": "JygLdBMb7XOF"
      },
      "execution_count": 47,
      "outputs": []
    },
    {
      "cell_type": "markdown",
      "source": [
        "Generates frequency-weighted TF-IDF vectors — better for discriminating rare but important words."
      ],
      "metadata": {
        "id": "WlouIvdf7zlR"
      }
    },
    {
      "cell_type": "code",
      "source": [
        "x_train, x_test, y_train, y_test = train_test_split(x_tfidf, y, test_size=0.2, random_state=42)"
      ],
      "metadata": {
        "id": "ttqNKPhN7Zc0"
      },
      "execution_count": 48,
      "outputs": []
    },
    {
      "cell_type": "markdown",
      "source": [
        "Splits data into 80-20 train/test ratio. Random seed ensures reproducibility."
      ],
      "metadata": {
        "id": "_KOrvbPO8DGz"
      }
    },
    {
      "cell_type": "code",
      "source": [
        "model = MultinomialNB()\n",
        "model.fit(x_train, y_train)\n",
        "\n",
        "y_pred = model.predict(x_test)\n",
        "acc_tfidf = accuracy_score(y_test, y_pred)\n",
        "print(\"Accuracy: \", acc_tfidf)\n",
        "print(\"\\n Classification Report:\\n\", classification_report(y_test, y_pred))\n",
        "print(\"\\n Confusion Matrix:\\n\", confusion_matrix(y_test, y_pred))"
      ],
      "metadata": {
        "colab": {
          "base_uri": "https://localhost:8080/"
        },
        "id": "cwViU2nF1Me5",
        "outputId": "5a70fc27-bf7f-4183-df0b-a05ad227c37b"
      },
      "execution_count": 49,
      "outputs": [
        {
          "output_type": "stream",
          "name": "stdout",
          "text": [
            "Accuracy:  0.967713004484305\n",
            "\n",
            " Classification Report:\n",
            "               precision    recall  f1-score   support\n",
            "\n",
            "         ham       0.96      1.00      0.98       965\n",
            "        spam       1.00      0.76      0.86       150\n",
            "\n",
            "    accuracy                           0.97      1115\n",
            "   macro avg       0.98      0.88      0.92      1115\n",
            "weighted avg       0.97      0.97      0.97      1115\n",
            "\n",
            "\n",
            " Confusion Matrix:\n",
            " [[965   0]\n",
            " [ 36 114]]\n"
          ]
        }
      ]
    },
    {
      "cell_type": "code",
      "source": [
        "import matplotlib.pyplot as plt\n",
        "import seaborn as sns\n",
        "plt.figure(figsize=(6, 4))\n",
        "plt.bar(['BoW + LR', 'TF-IDF + NB'], [acc_bow, acc_tfidf], color=['skyblue', 'lightgreen'])\n",
        "plt.title('Accuracy Comparison')\n",
        "plt.ylabel('Accuracy')\n",
        "plt.ylim(0.9, 1.0)\n",
        "plt.grid(axis='y')\n",
        "plt.show()\n"
      ],
      "metadata": {
        "colab": {
          "base_uri": "https://localhost:8080/",
          "height": 391
        },
        "id": "LHwDGCmp9IHb",
        "outputId": "31825b98-2eaf-4dd1-b646-b5bbf43987ba"
      },
      "execution_count": 59,
      "outputs": [
        {
          "output_type": "display_data",
          "data": {
            "text/plain": [
              "<Figure size 600x400 with 1 Axes>"
            ],
            "image/png": "[encoded data removed]"
          },
          "metadata": {}
        }
      ]
    }
  ]
}